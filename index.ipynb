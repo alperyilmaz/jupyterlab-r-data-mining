{
 "cells": [
  {
   "cell_type": "markdown",
   "id": "reasonable-canadian",
   "metadata": {},
   "source": [
    "# Veri Madenciliği Yöntemleri ve R Uygulamaları - Kodlar\n",
    "\n",
    "*alper yilmaz, 26 Şubat 2021*\n",
    "\n",
    "*Doç. Dr. Bülent Altunkaynak* tarafından yazılan \"[Veri Madenciliği Yöntemleri ve R Uygulamaları](https://www.seckin.com.tr/kitap/445277636#)\" kitabının içeriğindeki R kodlarını çalıştırmak için hazırlanan JupyterLab ortamındasınız.\n",
    "\n",
    "![kitap kapağı](https://www.seckin.com.tr/getimage/book/677941917_400_wm.jpg)\n",
    "\n"
   ]
  },
  {
   "cell_type": "markdown",
   "id": "minute-package",
   "metadata": {},
   "source": [
    "## Kullanım\n",
    "\n",
    "Bu sayfanın içerikleri [alperyilmaz/jupyterlab-r-data-mining](https://github.com/alperyilmaz/jupyterlab-r-data-mining) reposundan alınarak [mybinder.org](https://mybinder.org/) tarafından çalıştırılabilen kodlar haline getirilmektedir.\n",
    "\n",
    "Bu not defteri, bir kopyadır, o yüzden çekinmeden değişiklik yapabilirsiniz. Hücrelerdeki komutları çalıştırmanın yanında hücre içindeki komutları değiştirip çalıştırarak, komutları ve algoritmaları daha iyi anlayabilirsiniz. Çalıştırmak istediğiniz bir hücreye tıklayarak seçip, üst menüdeki <i class=\"fas fa-play\"></i> butonuna tıklayabilirsiniz veya <kbd>Ctrl+Enter</kbd> tuşlarına basabiliriniz.\n",
    "\n",
    "Bu JupyterLab ortamında, kitapta kullanılan kodları çalıştırmak için gerekli kütüphaneler kurulmuş, kitapta kullanılan verilen bir çoğu da `/data` klasörü altında toplanmıştır.\n"
   ]
  },
  {
   "cell_type": "markdown",
   "id": "naval-broadway",
   "metadata": {},
   "source": [
    "## İçerik \n",
    "\n",
    "Yan taraftaki dosya gezgininde, sırayla numaralanmış dosyaları seçerek kitabın belirli bölümlerine dair kodları görüntüleyebilirsiniz."
   ]
  }
 ],
 "metadata": {
  "kernelspec": {
   "display_name": "R",
   "language": "R",
   "name": "ir"
  },
  "language_info": {
   "codemirror_mode": "r",
   "file_extension": ".r",
   "mimetype": "text/x-r-source",
   "name": "R",
   "pygments_lexer": "r",
   "version": "4.0.3"
  }
 },
 "nbformat": 4,
 "nbformat_minor": 5
}
